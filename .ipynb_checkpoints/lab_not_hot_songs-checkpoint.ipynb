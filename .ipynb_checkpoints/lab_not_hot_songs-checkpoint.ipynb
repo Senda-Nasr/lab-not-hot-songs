{
 "cells": [
  {
   "cell_type": "code",
   "execution_count": null,
   "id": "c71c8e90",
   "metadata": {},
   "outputs": [],
   "source": [
    "# 1. import libraries\n",
    "import requests # to download html code\n",
    "from bs4 import BeautifulSoup # to navigate through the html code\n",
    "import pandas as pd\n",
    "import numpy as np\n",
    "import re"
   ]
  },
  {
   "cell_type": "code",
   "execution_count": null,
   "id": "96cdd415",
   "metadata": {},
   "outputs": [],
   "source": [
    "# We use the dataset from kaggle https://www.kaggle.com/datasets/saurabhshahane/music-dataset-1950-to-2019?resource=download\n",
    "# containing over 28 k songs between 1950 and 2019\n",
    "\n",
    "songs = pd.read_csv(\"tcc_ceds_music.csv\")\n",
    "songs.head()"
   ]
  },
  {
   "cell_type": "code",
   "execution_count": null,
   "id": "a0663f52",
   "metadata": {},
   "outputs": [],
   "source": [
    "# We check the shape to see how many records we have\n",
    "songs.shape"
   ]
  },
  {
   "cell_type": "code",
   "execution_count": null,
   "id": "9dd3d819",
   "metadata": {},
   "outputs": [],
   "source": [
    "# We isolate only the columns \"artist_name\"and \"track_name\" and perform some changes in the columns to align them with the df hot_songs\n",
    "not_hot = songs[[\"artist_name\",\"track_name\"]]\n",
    "not_hot= not_hot.rename(columns={\"artist_name\": \"artist\", \"track_name\": \"title\"})\n",
    "display(not_hot.head())\n",
    "display(not_hot.shape)"
   ]
  },
  {
   "cell_type": "code",
   "execution_count": null,
   "id": "ced4ddaa",
   "metadata": {},
   "outputs": [],
   "source": [
    "# We pick a sample of only 3000 random songs to make the file a bit \"lighter\" faster to process\n",
    "not_hot = not_hot.sample(n=3000, random_state=1)\n",
    "not_hot.shape"
   ]
  },
  {
   "cell_type": "code",
   "execution_count": null,
   "id": "5dba9768",
   "metadata": {},
   "outputs": [],
   "source": [
    "# We load the hot_songs df we created in the previous lab:\n",
    "hot_songs= pd.read_csv(\"../../Morning/lab-web-scraping-single-page/hot_100.csv\")\n",
    "hot_songs.head()"
   ]
  },
  {
   "cell_type": "code",
   "execution_count": null,
   "id": "ffc83c5f",
   "metadata": {},
   "outputs": [],
   "source": [
    "def remove_hot_songs(df_nothot, df_hot)-> pd.DataFrame:\n",
    "    \n",
    "    #converting all values of both dataframes to lower case\n",
    "    df_nothot = df_nothot.applymap(lambda x: x.lower() if isinstance(x, str) else x)    \n",
    "    df_hot= df_hot.applymap(lambda x: x.lower() if isinstance(x, str) else x)\n",
    "    \n",
    "    # performing a left merge to obtain the rows in the not hot songs that are present in the hot songs\n",
    "    left_merge_df = df_nothot.merge(df_hot, indicator=True, how='left')\n",
    "    \n",
    "    # keeping only the rows that are only present in the not hot dataframe\n",
    "    result_df= left_merge_df.query('_merge == \"left_only\"').drop('_merge', axis=1)\n",
    "    \n",
    "    return result_df"
   ]
  },
  {
   "cell_type": "code",
   "execution_count": null,
   "id": "dc4a55c6",
   "metadata": {},
   "outputs": [],
   "source": [
    "not_hot_songs= remove_hot_songs(not_hot, hot_songs)"
   ]
  },
  {
   "cell_type": "code",
   "execution_count": null,
   "id": "5ccd80af",
   "metadata": {},
   "outputs": [],
   "source": [
    "display(not_hot_songs)"
   ]
  },
  {
   "cell_type": "code",
   "execution_count": null,
   "id": "a4dfa872",
   "metadata": {},
   "outputs": [],
   "source": [
    "not_hot_songs.to_csv('not_hot_songs.csv', index=False)"
   ]
  }
 ],
 "metadata": {
  "kernelspec": {
   "display_name": "Python 3 (ipykernel)",
   "language": "python",
   "name": "python3"
  },
  "language_info": {
   "codemirror_mode": {
    "name": "ipython",
    "version": 3
   },
   "file_extension": ".py",
   "mimetype": "text/x-python",
   "name": "python",
   "nbconvert_exporter": "python",
   "pygments_lexer": "ipython3",
   "version": "3.11.5"
  }
 },
 "nbformat": 4,
 "nbformat_minor": 5
}
